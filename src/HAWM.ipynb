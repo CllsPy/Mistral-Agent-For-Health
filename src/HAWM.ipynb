{
  "nbformat": 4,
  "nbformat_minor": 0,
  "metadata": {
    "colab": {
      "provenance": []
    },
    "kernelspec": {
      "name": "python3",
      "display_name": "Python 3"
    },
    "language_info": {
      "name": "python"
    }
  },
  "cells": [
    {
      "cell_type": "markdown",
      "source": [
        "# Requirements.txt\n",
        "Bibliotecas necessárias para construção do Agente:\n",
        "\n",
        "* Langchain\n",
        "* CrewAi"
      ],
      "metadata": {
        "id": "2ASkRwEz9_uR"
      }
    },
    {
      "cell_type": "code",
      "execution_count": 2,
      "metadata": {
        "id": "t1PL1kiuvlzI"
      },
      "outputs": [],
      "source": [
        "%%capture\n",
        "\n",
        "!pip install crewai['tools']\n",
        "!pip install langchain_mistralai\n",
        "!pip install crewai-tools"
      ]
    },
    {
      "cell_type": "code",
      "source": [
        "import os\n",
        "from google.colab import userdata\n",
        "from crewai_tools import SerperDevTool\n",
        "from langchain_mistralai import ChatMistralAI\n",
        "from crewai import Agent, Task, Crew, Process"
      ],
      "metadata": {
        "id": "EYgBuCIgvxhC"
      },
      "execution_count": 3,
      "outputs": []
    },
    {
      "cell_type": "markdown",
      "source": [
        "## APIs"
      ],
      "metadata": {
        "id": "qGkLNYsM_RXF"
      }
    },
    {
      "cell_type": "code",
      "source": [],
      "metadata": {
        "id": "pUDX--SawP7_"
      },
      "execution_count": 4,
      "outputs": []
    },
    {
      "cell_type": "markdown",
      "source": [
        "## Criação e Ação dos Agentes"
      ],
      "metadata": {
        "id": "sSUzycMJ_UO3"
      }
    },
    {
      "cell_type": "code",
      "source": [
        "%%capture\n",
        "\n",
        "def run(start):\n",
        "\n",
        "    import os\n",
        "    from google.colab import userdata\n",
        "    from crewai_tools import SerperDevTool\n",
        "    from langchain_mistralai import ChatMistralAI\n",
        "    from crewai import Agent, Task, Crew, Process\n",
        "\n",
        "    # os.environ['MISTRAL_API_KEY'] = userdata.get('MISTRAL')\n",
        "    os.environ['MISTRAL_API_KEY'] = \"LJXdowSsL7Zc4WWRz6R1UTy9U9tbGTbQ\"\n",
        "\n",
        "    # os.environ['SERPER_API_KEY'] = userdata.get('SERPER_API_KEY')\n",
        "    os.environ['SERPER_API_KEY'] = \"6ae6de1dc6fbecfb587f91b9a8430295ee4d65e8\"\n",
        "\n",
        "    search_tool = SerperDevTool()\n",
        "    mistral_model = \"mistral/mistral-large-latest\"\n",
        "\n",
        "    llm = ChatMistralAI(model=mistral_model, temperature=0.7)\n",
        "\n",
        "    researcher = Agent(\n",
        "        role = \"Analista Sênior de Pesquisa em Saúde\",\n",
        "        goal = \"Investigue e relate os últimos avanços em aplicações de IA para o setor de saúde em 2025.\",\n",
        "        backstory = \"\"\"Você trabalha em um importante instituto de pesquisa em saúde.\n",
        "        Sua especialidade é obter e analisar informações sobre tecnologias de IA usadas na área da saúde. Você é excelente em decompor dados médicos complexos e apresentá-los de maneira acessível e esclarecedora.\"\"\",\n",
        "        verbose = False,\n",
        "        allow_delegation = False,\n",
        "        tools = [search_tool],\n",
        "        llm = ChatMistralAI(model=mistral_model, temperature=0)\n",
        "    )\n",
        "    writer = Agent(\n",
        "        role = \"Escritor especialista em tecnologia da saúde\",\n",
        "        goal = \"Elabore artigos concisos e informativos resumindo os últimos avanços em aplicações de IA no setor de saúde em 2025.\",\n",
        "        backstory = \"\"\"Você é um estrategista de conteúdo muito respeitado com um talento especial para criar artigos envolventes e informativos.\n",
        "        Sua especialidade é transformar conceitos complexos de assistência médica e IA em narrativas claras e atraentes, facilmente compreendidas por um público amplo.\"\"\",\n",
        "        verbose = True,\n",
        "        allow_delegation = True,\n",
        "        llm = ChatMistralAI(model=mistral_model, temperature=0)\n",
        "    )\n",
        "\n",
        "    task1 = Task(\n",
        "        description = \"Investigue os avanços mais recentes em aplicações de IA para assistência médica.\",\n",
        "        expected_output = \"Um resumo detalhado das últimas inovações em tecnologia de IA no setor de saúde.\",\n",
        "        agent = researcher\n",
        "    )\n",
        "\n",
        "    task2 = Task(\n",
        "        description = \"Escreva um artigo conciso e informativo destacando as últimas inovações em aplicações de IA para saúde.\",\n",
        "        expected_output = \"Um artigo envolvente e bem estruturado sobre os avanços recentes na tecnologia de IA para a saúde.\",\n",
        "        agent = writer\n",
        "    )\n",
        "\n",
        "    crew = Crew(\n",
        "        agents = [researcher, writer],\n",
        "        tasks = [task1, task2],\n",
        "        verbose = 1\n",
        "    )\n",
        "\n",
        "    final = crew.kickoff()\n",
        "    return final"
      ],
      "metadata": {
        "id": "LdE5IxOcxHr3"
      },
      "execution_count": 18,
      "outputs": []
    },
    {
      "cell_type": "markdown",
      "source": [
        "# UI"
      ],
      "metadata": {
        "id": "FrNat7o3_PT2"
      }
    },
    {
      "cell_type": "code",
      "source": [
        "%%capture\n",
        "\n",
        "!pip install gradio"
      ],
      "metadata": {
        "id": "GWCOzxR-_QGb"
      },
      "execution_count": 7,
      "outputs": []
    },
    {
      "cell_type": "code",
      "source": [
        "import gradio as gr\n",
        "\n",
        "\n",
        "demo = gr.Interface(fn=run, inputs=\"text\", outputs=\"text\")\n",
        "demo.launch()"
      ],
      "metadata": {
        "colab": {
          "base_uri": "https://localhost:8080/",
          "height": 645
        },
        "id": "Vd-m6M3i_2It",
        "outputId": "00ff045f-b8ff-42ec-c00c-cd6f8f1aed44"
      },
      "execution_count": 19,
      "outputs": [
        {
          "output_type": "stream",
          "name": "stdout",
          "text": [
            "It looks like you are running Gradio on a hosted a Jupyter notebook. For the Gradio app to work, sharing must be enabled. Automatically setting `share=True` (you can turn this off by setting `share=False` in `launch()` explicitly).\n",
            "\n",
            "Colab notebook detected. To show errors in colab notebook, set debug=True in launch()\n",
            "* Running on public URL: https://9c3c39a6aca15a0828.gradio.live\n",
            "\n",
            "This share link expires in 1 week. For free permanent hosting and GPU upgrades, run `gradio deploy` from the terminal in the working directory to deploy to Hugging Face Spaces (https://huggingface.co/spaces)\n"
          ]
        },
        {
          "output_type": "display_data",
          "data": {
            "text/plain": [
              "<IPython.core.display.HTML object>"
            ],
            "text/html": [
              "<div><iframe src=\"https://9c3c39a6aca15a0828.gradio.live\" width=\"100%\" height=\"500\" allow=\"autoplay; camera; microphone; clipboard-read; clipboard-write;\" frameborder=\"0\" allowfullscreen></iframe></div>"
            ]
          },
          "metadata": {}
        },
        {
          "output_type": "execute_result",
          "data": {
            "text/plain": []
          },
          "metadata": {},
          "execution_count": 19
        }
      ]
    }
  ]
}